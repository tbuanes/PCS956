{
 "cells": [
  {
   "cell_type": "markdown",
   "metadata": {},
   "source": [
    "---\n",
    "title: Uncertainty\n",
    "---"
   ]
  },
  {
   "cell_type": "markdown",
   "metadata": {},
   "source": [
    "Whenever one wants to determine something about the world we live in, there is uncertainty involved. If you perform a measurement, there will only be a finite achievable precision. If you sample a population to evaluate something, no matter how well you design the study there is a possibility that your sample is not completely representative of the whole population (unless you can actually include the whole population in your sample). The uncertainty is not necessarily a problem, though. If you can control the uncertainty such that its magnitude is small enough to be irrelevant, all is well. And even if you can't make the uncertainty as small as you would like, your results may be perfectly usable as long as you keep the uncertainty in mind. This is provided that you can actually quantify the uncertainty. There are well-established methods for quantifying, or at least estimating, the uncertainty of most physical measurements and also for combining the uncertainties of the input data when calculating a composite quantity. But when an ML model is involved, with its large number of internal parameters, it is less clear how to estimate the uncertainty of its output."
   ]
  },
  {
   "cell_type": "markdown",
   "metadata": {},
   "source": [
    "## Classification of uncertainty\n",
    "Before dicussing how to quantify the uncertainty, let's start by having a look of different types of uncertainty. Depending on the domain, there are different ways of classifying uncertainty, which are only partly overlapping. Here, I will discuss two types of classifications. In many natural sciences, e.g. physics, one usually talks about **statistical/stochastic** and **systematic** uncertainty. In computer science one more often refer to **aleatoric** and **epistemic** uncertainty. These two classification schemes are often described as indentical making statistical/aleatoric and systematic/epistemic synonyms. In reality there are however some subtle differences, since the nature of uncertainty in a physical measurement and in a mathematical model are different.\n",
    "\n",
    "### Statistical/stochastic uncertainty\n",
    "If we repeat a measurement, say the voltage across a light bulb, several times we will not get the same value every time (provided the resolution of the voltmeter is sufficently good) since the voltage can never be absolutely stable. In the same way, if we measure the time interval between radioactive decays from some source, there will be some variation since the decay process is fundamentally stochastic. The same is true for any physical measurement - if you try to make it sufficiently precise, you will necessarily observe some fluctuations in the value you measure. The statistical uncertainty is relatively easy to handle: by making repeated measurements and averaging the result one find a better estimate of the true value than what a single measurement will give. Also, if one has some knowledge of the underlying statistical model for the fluctuations (Gaussian, Poisson, ...) there are concrete receipts on how to quantify the uncertainty of this estimate. Furthermore, if one calculates a quantity which is a function of two or more measured values, the uncertainty of the compund quantity can easily(ish) be calculated as well.\n",
    "\n",
    "### Systematic uncertainty\n",
    "Systematic uncertainties relates to specific measurement apparatuses or procedures, and countrary to the statistical uncertainty will typically shift all measurement results in one direction. A trivial example may be a measurement rod which expands or contracts when the temperature changes. All measurements taken at the same temperatur will then be shifted by the same amount. There is no general procedure for how to estimate the systematic uncertainty - it depends to much on the nature of the measurement that is done. In many cases the best one can do is to perform the same measurement with a different apparatus/procedure and us the deviation as an estimate of the uncertainty. Also, there is no general prescription for how to combine the statistical uncertainty into a compound uncertainty when calculating a value based on several measured parameters. It is quite common to use the same procedure as for statistical uncertainties, but there is no statistical foundation for doing this."
   ]
  }
 ],
 "metadata": {
  "language_info": {
   "name": "python"
  }
 },
 "nbformat": 4,
 "nbformat_minor": 2
}
