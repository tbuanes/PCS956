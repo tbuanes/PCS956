{
 "cells": [
  {
   "cell_type": "markdown",
   "metadata": {},
   "source": [
    "## Suggested reading\n",
    "\n",
    "[Deeply uncertain: comparing methods of uncertainty quantification in deep learning algorithms](https://iopscience.iop.org/article/10.1088/2632-2153/aba6f3) \\\n",
    "J Caldeira and B Nord \\\n",
    "Mach. Learn.: Sci. Technol. 2 015002"
   ]
  }
 ],
 "metadata": {
  "language_info": {
   "name": "python"
  }
 },
 "nbformat": 4,
 "nbformat_minor": 2
}
