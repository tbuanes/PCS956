{
 "cells": [
  {
   "cell_type": "markdown",
   "metadata": {},
   "source": [
    "---\n",
    "title: Suggested reading\n",
    "---"
   ]
  },
  {
   "cell_type": "markdown",
   "metadata": {},
   "source": [
    "[Evaluation metrics and statistical tests for machine learning](https://www.nature.com/articles/s41598-024-56706-x) \\\n",
    "O Rainio, J Teuho, and R Kl\\'en \\\n",
    "Scientific Reports volume 14, Article number: 6086 (2024)"
   ]
  }
 ],
 "metadata": {
  "language_info": {
   "name": "python"
  }
 },
 "nbformat": 4,
 "nbformat_minor": 2
}
