{
 "cells": [
  {
   "cell_type": "markdown",
   "metadata": {},
   "source": [
    "## Suggested reading\n",
    "\n",
    "[On Calibration of Modern Neural Networks](https://proceedings.mlr.press/v70/guo17a.html) \\\n",
    "C Guo, G Pleiss, Y Sun, and K Weinberger \\\n",
    "Proceedings of the 34th International Conference on Machine Learning, PMLR 70:1321-1330, 2017\n",
    "\n",
    "[Beyond calibration: estimating the grouping loss of modern neural networks](https://arxiv.org/abs/2210.16315) \\\n",
    "A Perez-Lebel, M Le Morvan, and G Varoquaux \\\n",
    "ICLR 2023\n"
   ]
  }
 ],
 "metadata": {
  "language_info": {
   "name": "python"
  }
 },
 "nbformat": 4,
 "nbformat_minor": 2
}
