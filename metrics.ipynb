{
  "cells": [
    {
      "cell_type": "raw",
      "id": "a650566c",
      "metadata": {
        "vscode": {
          "languageId": "raw"
        }
      },
      "source": [
        "---\n",
        "title: \"Metrics\"\n",
        "format: html\n",
        "---"
      ]
    },
    {
      "cell_type": "markdown",
      "id": "d312f163",
      "metadata": {},
      "source": [
        "## Metrics for classification\n",
        "\n",
        "- **Accuracy** is a measure of the fraction of correctly units\n",
        "$$\\text{Accuracy} = \\frac{TP + TN}{P + N}$$\n",
        "- **Precision** is a measure of how large a fraction classified as positive was correctly classified\n",
        "$$\\text{Precision} = \\frac{TP}{TP+TN}\n",
        "- **Recall** is a measure of how large a fraction of the positive class was correctly classified\n",
        "$$\\text{Recall} = \\frac{TP}{P}$$\n",
        "- F1 score\n",
        "\n",
        "- It's _plain text_ so works well with version control\n",
        "- It can be **rendered** into HTML, PDF, and more\n",
        "- Learn more at: <https://quarto.org/docs/authoring/>\n",
        "\n",
        "## Code Cell\n",
        "\n",
        "Here is a Python code cell:\n"
      ]
    },
    {
      "cell_type": "code",
      "execution_count": null,
      "id": "194ac097",
      "metadata": {},
      "outputs": [],
      "source": [
        "import os\n",
        "os.cpu_count()"
      ]
    },
    {
      "cell_type": "markdown",
      "id": "d65aad97",
      "metadata": {},
      "source": [
        "## Equation\n",
        "\n",
        "Use LaTeX to write equations:\n",
        "\n",
        "$$\n",
        "\\chi' = \\sum_{i=1}^n k_i s_i^2\n",
        "$$"
      ]
    }
  ],
  "metadata": {
    "kernelspec": {
      "display_name": "Python 3",
      "language": "python",
      "name": "python3"
    },
    "language_info": {
      "codemirror_mode": {
        "name": "ipython",
        "version": 3
      },
      "file_extension": ".py",
      "mimetype": "text/x-python",
      "name": "python",
      "nbconvert_exporter": "python",
      "pygments_lexer": "ipython3",
      "version": "3.11.9"
    }
  },
  "nbformat": 4,
  "nbformat_minor": 5
}
